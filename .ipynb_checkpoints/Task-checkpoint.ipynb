{
 "cells": [
  {
   "cell_type": "code",
   "execution_count": null,
   "id": "1ecef99e",
   "metadata": {},
   "outputs": [],
   "source": [
    "\"\"\"\n",
    "Застосуйте описані в лекції методи відбору ознак, використовуючи вже відомий вам датасет ірісів Фішера.\n",
    "Код для завантаження датасету:\n",
    "from sklearn import datasets\n",
    "iris = datasets.load_iris()\n",
    "\"\"\""
   ]
  },
  {
   "cell_type": "code",
   "execution_count": 1,
   "id": "e5f722f6",
   "metadata": {},
   "outputs": [],
   "source": [
    "import numpy as np\n",
    "import pandas as pd\n",
    "from sklearn import datasets\n",
    "from sklearn.decomposition import TruncatedSVD, PCA\n",
    "from sklearn.discriminant_analysis import LinearDiscriminantAnalysis"
   ]
  },
  {
   "cell_type": "code",
   "execution_count": 2,
   "id": "6014360d",
   "metadata": {},
   "outputs": [],
   "source": [
    "# Завантаження датасету ірисів Фішера\n",
    "iris = datasets.load_iris()\n",
    "X = iris.data\n",
    "y = iris.target"
   ]
  },
  {
   "cell_type": "code",
   "execution_count": 3,
   "id": "f07bca6c",
   "metadata": {},
   "outputs": [],
   "source": [
    "# Застосування методу SVD\n",
    "svd = TruncatedSVD(n_components=2)\n",
    "X_svd = svd.fit_transform(X)"
   ]
  },
  {
   "cell_type": "code",
   "execution_count": 4,
   "id": "4133c82f",
   "metadata": {},
   "outputs": [],
   "source": [
    "# Застосування методу PCA\n",
    "pca = PCA(n_components=2)\n",
    "X_pca = pca.fit_transform(X)"
   ]
  },
  {
   "cell_type": "code",
   "execution_count": 5,
   "id": "541b8aed",
   "metadata": {},
   "outputs": [],
   "source": [
    "# Застосування методу LDA\n",
    "lda = LinearDiscriminantAnalysis(n_components=2)\n",
    "X_lda = lda.fit_transform(X, y)"
   ]
  },
  {
   "cell_type": "code",
   "execution_count": 6,
   "id": "89e90ac5",
   "metadata": {},
   "outputs": [],
   "source": [
    "# Створення нових датафреймів для візуалізації результатів\n",
    "df_svd = pd.DataFrame(data=X_svd, columns=['Component 1', 'Component 2'])\n",
    "df_pca = pd.DataFrame(data=X_pca, columns=['Component 1', 'Component 2'])\n",
    "df_lda = pd.DataFrame(data=X_lda, columns=['Component 1', 'Component 2'])\n",
    "df_svd['Target'] = iris.target_names[y]\n",
    "df_pca['Target'] = iris.target_names[y]\n",
    "df_lda['Target'] = iris.target_names[y]"
   ]
  },
  {
   "cell_type": "code",
   "execution_count": 7,
   "id": "54e13d7d",
   "metadata": {},
   "outputs": [
    {
     "name": "stdout",
     "output_type": "stream",
     "text": [
      "Результаты SVD:\n",
      "   Component 1  Component 2  Target\n",
      "0     5.912747     2.302033  setosa\n",
      "1     5.572482     1.971826  setosa\n",
      "2     5.446977     2.095206  setosa\n",
      "3     5.436459     1.870382  setosa\n",
      "4     5.875645     2.328290  setosa\n",
      "\n",
      "Результаты PCA:\n",
      "   Component 1  Component 2  Target\n",
      "0    -2.684126     0.319397  setosa\n",
      "1    -2.714142    -0.177001  setosa\n",
      "2    -2.888991    -0.144949  setosa\n",
      "3    -2.745343    -0.318299  setosa\n",
      "4    -2.728717     0.326755  setosa\n",
      "\n",
      "Результаты LDA:\n",
      "   Component 1  Component 2  Target\n",
      "0     8.061800     0.300421  setosa\n",
      "1     7.128688    -0.786660  setosa\n",
      "2     7.489828    -0.265384  setosa\n",
      "3     6.813201    -0.670631  setosa\n",
      "4     8.132309     0.514463  setosa\n"
     ]
    }
   ],
   "source": [
    "# Виведення результатів\n",
    "print(\"Результаты SVD:\")\n",
    "print(df_svd.head())\n",
    "print(\"\\nРезультаты PCA:\")\n",
    "print(df_pca.head())\n",
    "print(\"\\nРезультаты LDA:\")\n",
    "print(df_lda.head())"
   ]
  },
  {
   "cell_type": "code",
   "execution_count": null,
   "id": "35ecfc95",
   "metadata": {},
   "outputs": [],
   "source": []
  }
 ],
 "metadata": {
  "kernelspec": {
   "display_name": "Python 3",
   "language": "python",
   "name": "python3"
  },
  "language_info": {
   "codemirror_mode": {
    "name": "ipython",
    "version": 3
   },
   "file_extension": ".py",
   "mimetype": "text/x-python",
   "name": "python",
   "nbconvert_exporter": "python",
   "pygments_lexer": "ipython3",
   "version": "3.8.10"
  }
 },
 "nbformat": 4,
 "nbformat_minor": 5
}
